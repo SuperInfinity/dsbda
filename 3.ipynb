{
 "cells": [
  {
   "metadata": {},
   "cell_type": "markdown",
   "source": [
    "Problem Statement No. 03 <br>\n",
    "Write a Python program to display some basic statistical details like percentile, mean, standard deviation etc. of the\n",
    "species of ‘Iris-setosa’, ‘Iris-versicolor’ and ‘Iris-virginica’ of iris.csv dataset.\n",
    "Calculate the measures of variability. Calculate and provide the visualization of the Correlation among the variables."
   ],
   "id": "30703c3ae1f24e77"
  },
  {
   "metadata": {
    "ExecuteTime": {
     "end_time": "2025-05-05T11:03:45.138179Z",
     "start_time": "2025-05-05T11:03:45.131918Z"
    }
   },
   "cell_type": "code",
   "source": [
    "import numpy as np\n",
    "import pandas as pd\n",
    "import seaborn as sns\n",
    "import matplotlib.pyplot as plt"
   ],
   "id": "13b867ff9d378cee",
   "outputs": [],
   "execution_count": 12
  },
  {
   "metadata": {
    "ExecuteTime": {
     "end_time": "2025-05-05T10:49:17.065330Z",
     "start_time": "2025-05-05T10:49:17.053105Z"
    }
   },
   "cell_type": "code",
   "source": [
    "df = pd.read_csv(\"data/Iris.csv\")\n",
    "df.info()"
   ],
   "id": "67c29e40efd580a4",
   "outputs": [
    {
     "name": "stdout",
     "output_type": "stream",
     "text": [
      "<class 'pandas.core.frame.DataFrame'>\n",
      "RangeIndex: 150 entries, 0 to 149\n",
      "Data columns (total 6 columns):\n",
      " #   Column         Non-Null Count  Dtype  \n",
      "---  ------         --------------  -----  \n",
      " 0   Id             150 non-null    int64  \n",
      " 1   SepalLengthCm  150 non-null    float64\n",
      " 2   SepalWidthCm   150 non-null    float64\n",
      " 3   PetalLengthCm  150 non-null    float64\n",
      " 4   PetalWidthCm   150 non-null    float64\n",
      " 5   Species        150 non-null    object \n",
      "dtypes: float64(4), int64(1), object(1)\n",
      "memory usage: 7.2+ KB\n"
     ]
    }
   ],
   "execution_count": 3
  },
  {
   "metadata": {
    "ExecuteTime": {
     "end_time": "2025-05-05T10:50:06.007725Z",
     "start_time": "2025-05-05T10:50:05.964387Z"
    }
   },
   "cell_type": "code",
   "source": [
    "# M1: (statistical details like percentile, mean, standard deviation etc. of the species of ‘Iris-setosa’, ‘Iris-versicolor’ and ‘Iris-virginica’ of iris.csv dataset.)\n",
    "grouped = df.groupby(\"Species\")\n",
    "grouped.describe()"
   ],
   "id": "ae22ae511a6425b6",
   "outputs": [
    {
     "data": {
      "text/plain": [
       "                   Id                                                        \\\n",
       "                count   mean       std    min     25%    50%     75%    max   \n",
       "Species                                                                       \n",
       "Iris-setosa      50.0   25.5  14.57738    1.0   13.25   25.5   37.75   50.0   \n",
       "Iris-versicolor  50.0   75.5  14.57738   51.0   63.25   75.5   87.75  100.0   \n",
       "Iris-virginica   50.0  125.5  14.57738  101.0  113.25  125.5  137.75  150.0   \n",
       "\n",
       "                SepalLengthCm         ... PetalLengthCm      PetalWidthCm  \\\n",
       "                        count   mean  ...           75%  max        count   \n",
       "Species                               ...                                   \n",
       "Iris-setosa              50.0  5.006  ...         1.575  1.9         50.0   \n",
       "Iris-versicolor          50.0  5.936  ...         4.600  5.1         50.0   \n",
       "Iris-virginica           50.0  6.588  ...         5.875  6.9         50.0   \n",
       "\n",
       "                                                           \n",
       "                  mean       std  min  25%  50%  75%  max  \n",
       "Species                                                    \n",
       "Iris-setosa      0.244  0.107210  0.1  0.2  0.2  0.3  0.6  \n",
       "Iris-versicolor  1.326  0.197753  1.0  1.2  1.3  1.5  1.8  \n",
       "Iris-virginica   2.026  0.274650  1.4  1.8  2.0  2.3  2.5  \n",
       "\n",
       "[3 rows x 40 columns]"
      ],
      "text/html": [
       "<div>\n",
       "<style scoped>\n",
       "    .dataframe tbody tr th:only-of-type {\n",
       "        vertical-align: middle;\n",
       "    }\n",
       "\n",
       "    .dataframe tbody tr th {\n",
       "        vertical-align: top;\n",
       "    }\n",
       "\n",
       "    .dataframe thead tr th {\n",
       "        text-align: left;\n",
       "    }\n",
       "\n",
       "    .dataframe thead tr:last-of-type th {\n",
       "        text-align: right;\n",
       "    }\n",
       "</style>\n",
       "<table border=\"1\" class=\"dataframe\">\n",
       "  <thead>\n",
       "    <tr>\n",
       "      <th></th>\n",
       "      <th colspan=\"8\" halign=\"left\">Id</th>\n",
       "      <th colspan=\"2\" halign=\"left\">SepalLengthCm</th>\n",
       "      <th>...</th>\n",
       "      <th colspan=\"2\" halign=\"left\">PetalLengthCm</th>\n",
       "      <th colspan=\"8\" halign=\"left\">PetalWidthCm</th>\n",
       "    </tr>\n",
       "    <tr>\n",
       "      <th></th>\n",
       "      <th>count</th>\n",
       "      <th>mean</th>\n",
       "      <th>std</th>\n",
       "      <th>min</th>\n",
       "      <th>25%</th>\n",
       "      <th>50%</th>\n",
       "      <th>75%</th>\n",
       "      <th>max</th>\n",
       "      <th>count</th>\n",
       "      <th>mean</th>\n",
       "      <th>...</th>\n",
       "      <th>75%</th>\n",
       "      <th>max</th>\n",
       "      <th>count</th>\n",
       "      <th>mean</th>\n",
       "      <th>std</th>\n",
       "      <th>min</th>\n",
       "      <th>25%</th>\n",
       "      <th>50%</th>\n",
       "      <th>75%</th>\n",
       "      <th>max</th>\n",
       "    </tr>\n",
       "    <tr>\n",
       "      <th>Species</th>\n",
       "      <th></th>\n",
       "      <th></th>\n",
       "      <th></th>\n",
       "      <th></th>\n",
       "      <th></th>\n",
       "      <th></th>\n",
       "      <th></th>\n",
       "      <th></th>\n",
       "      <th></th>\n",
       "      <th></th>\n",
       "      <th></th>\n",
       "      <th></th>\n",
       "      <th></th>\n",
       "      <th></th>\n",
       "      <th></th>\n",
       "      <th></th>\n",
       "      <th></th>\n",
       "      <th></th>\n",
       "      <th></th>\n",
       "      <th></th>\n",
       "      <th></th>\n",
       "    </tr>\n",
       "  </thead>\n",
       "  <tbody>\n",
       "    <tr>\n",
       "      <th>Iris-setosa</th>\n",
       "      <td>50.0</td>\n",
       "      <td>25.5</td>\n",
       "      <td>14.57738</td>\n",
       "      <td>1.0</td>\n",
       "      <td>13.25</td>\n",
       "      <td>25.5</td>\n",
       "      <td>37.75</td>\n",
       "      <td>50.0</td>\n",
       "      <td>50.0</td>\n",
       "      <td>5.006</td>\n",
       "      <td>...</td>\n",
       "      <td>1.575</td>\n",
       "      <td>1.9</td>\n",
       "      <td>50.0</td>\n",
       "      <td>0.244</td>\n",
       "      <td>0.107210</td>\n",
       "      <td>0.1</td>\n",
       "      <td>0.2</td>\n",
       "      <td>0.2</td>\n",
       "      <td>0.3</td>\n",
       "      <td>0.6</td>\n",
       "    </tr>\n",
       "    <tr>\n",
       "      <th>Iris-versicolor</th>\n",
       "      <td>50.0</td>\n",
       "      <td>75.5</td>\n",
       "      <td>14.57738</td>\n",
       "      <td>51.0</td>\n",
       "      <td>63.25</td>\n",
       "      <td>75.5</td>\n",
       "      <td>87.75</td>\n",
       "      <td>100.0</td>\n",
       "      <td>50.0</td>\n",
       "      <td>5.936</td>\n",
       "      <td>...</td>\n",
       "      <td>4.600</td>\n",
       "      <td>5.1</td>\n",
       "      <td>50.0</td>\n",
       "      <td>1.326</td>\n",
       "      <td>0.197753</td>\n",
       "      <td>1.0</td>\n",
       "      <td>1.2</td>\n",
       "      <td>1.3</td>\n",
       "      <td>1.5</td>\n",
       "      <td>1.8</td>\n",
       "    </tr>\n",
       "    <tr>\n",
       "      <th>Iris-virginica</th>\n",
       "      <td>50.0</td>\n",
       "      <td>125.5</td>\n",
       "      <td>14.57738</td>\n",
       "      <td>101.0</td>\n",
       "      <td>113.25</td>\n",
       "      <td>125.5</td>\n",
       "      <td>137.75</td>\n",
       "      <td>150.0</td>\n",
       "      <td>50.0</td>\n",
       "      <td>6.588</td>\n",
       "      <td>...</td>\n",
       "      <td>5.875</td>\n",
       "      <td>6.9</td>\n",
       "      <td>50.0</td>\n",
       "      <td>2.026</td>\n",
       "      <td>0.274650</td>\n",
       "      <td>1.4</td>\n",
       "      <td>1.8</td>\n",
       "      <td>2.0</td>\n",
       "      <td>2.3</td>\n",
       "      <td>2.5</td>\n",
       "    </tr>\n",
       "  </tbody>\n",
       "</table>\n",
       "<p>3 rows × 40 columns</p>\n",
       "</div>"
      ]
     },
     "execution_count": 5,
     "metadata": {},
     "output_type": "execute_result"
    }
   ],
   "execution_count": 5
  },
  {
   "metadata": {
    "ExecuteTime": {
     "end_time": "2025-05-05T11:01:48.578427Z",
     "start_time": "2025-05-05T11:01:48.518810Z"
    }
   },
   "cell_type": "code",
   "source": [
    "# M2:\n",
    "setosa = df[df['Species'] == 'Iris-setosa']\n",
    "versicolor = df[df['Species'] == 'Iris-versicolor']\n",
    "virginica = df[df['Species'] == 'Iris-virginica']\n",
    "\n",
    "print(\"Setosa:\\n\", setosa.describe())\n",
    "print(\"\\nVersicolor:\\n\", versicolor.describe())\n",
    "print(\"\\nVirginica:\\n\", virginica.describe())"
   ],
   "id": "31a063766421b164",
   "outputs": [
    {
     "name": "stdout",
     "output_type": "stream",
     "text": [
      "Setosa:\n",
      "              Id  SepalLengthCm  SepalWidthCm  PetalLengthCm  PetalWidthCm\n",
      "count  50.00000       50.00000     50.000000      50.000000      50.00000\n",
      "mean   25.50000        5.00600      3.418000       1.464000       0.24400\n",
      "std    14.57738        0.35249      0.381024       0.173511       0.10721\n",
      "min     1.00000        4.30000      2.300000       1.000000       0.10000\n",
      "25%    13.25000        4.80000      3.125000       1.400000       0.20000\n",
      "50%    25.50000        5.00000      3.400000       1.500000       0.20000\n",
      "75%    37.75000        5.20000      3.675000       1.575000       0.30000\n",
      "max    50.00000        5.80000      4.400000       1.900000       0.60000\n",
      "\n",
      "Versicolor:\n",
      "               Id  SepalLengthCm  SepalWidthCm  PetalLengthCm  PetalWidthCm\n",
      "count   50.00000      50.000000     50.000000      50.000000     50.000000\n",
      "mean    75.50000       5.936000      2.770000       4.260000      1.326000\n",
      "std     14.57738       0.516171      0.313798       0.469911      0.197753\n",
      "min     51.00000       4.900000      2.000000       3.000000      1.000000\n",
      "25%     63.25000       5.600000      2.525000       4.000000      1.200000\n",
      "50%     75.50000       5.900000      2.800000       4.350000      1.300000\n",
      "75%     87.75000       6.300000      3.000000       4.600000      1.500000\n",
      "max    100.00000       7.000000      3.400000       5.100000      1.800000\n",
      "\n",
      "Virginica:\n",
      "               Id  SepalLengthCm  SepalWidthCm  PetalLengthCm  PetalWidthCm\n",
      "count   50.00000       50.00000     50.000000      50.000000      50.00000\n",
      "mean   125.50000        6.58800      2.974000       5.552000       2.02600\n",
      "std     14.57738        0.63588      0.322497       0.551895       0.27465\n",
      "min    101.00000        4.90000      2.200000       4.500000       1.40000\n",
      "25%    113.25000        6.22500      2.800000       5.100000       1.80000\n",
      "50%    125.50000        6.50000      3.000000       5.550000       2.00000\n",
      "75%    137.75000        6.90000      3.175000       5.875000       2.30000\n",
      "max    150.00000        7.90000      3.800000       6.900000       2.50000\n"
     ]
    }
   ],
   "execution_count": 11
  },
  {
   "metadata": {
    "ExecuteTime": {
     "end_time": "2025-05-05T10:58:33.586046Z",
     "start_time": "2025-05-05T10:58:33.578022Z"
    }
   },
   "cell_type": "code",
   "source": [
    "num = df.select_dtypes(include=['int64', 'float64']).columns.drop('Id')\n",
    "for col in num:\n",
    "    print(f\"For {col}\")\n",
    "    print(f\"std. dev = {df[col].std()}\")\n",
    "    print(f\"variance = {df[col].var()}\")\n",
    "    print(\"---------------------------------\")"
   ],
   "id": "7fe6f41965255a0c",
   "outputs": [
    {
     "name": "stdout",
     "output_type": "stream",
     "text": [
      "For SepalLengthCm\n",
      "std. dev = 0.8280661279778629\n",
      "variance = 0.6856935123042505\n",
      "---------------------------------\n",
      "For SepalWidthCm\n",
      "std. dev = 0.4335943113621737\n",
      "variance = 0.18800402684563763\n",
      "---------------------------------\n",
      "For PetalLengthCm\n",
      "std. dev = 1.7644204199522617\n",
      "variance = 3.1131794183445156\n",
      "---------------------------------\n",
      "For PetalWidthCm\n",
      "std. dev = 0.7631607417008414\n",
      "variance = 0.5824143176733784\n",
      "---------------------------------\n"
     ]
    }
   ],
   "execution_count": 10
  },
  {
   "metadata": {
    "ExecuteTime": {
     "end_time": "2025-05-05T11:05:50.609375Z",
     "start_time": "2025-05-05T11:05:50.302551Z"
    }
   },
   "cell_type": "code",
   "source": "sns.heatmap(df[num].corr(), annot=True, cmap='coolwarm')",
   "id": "94950cf8f4976f97",
   "outputs": [
    {
     "data": {
      "text/plain": [
       "<Axes: >"
      ]
     },
     "execution_count": 16,
     "metadata": {},
     "output_type": "execute_result"
    },
    {
     "data": {
      "text/plain": [
       "<Figure size 640x480 with 2 Axes>"
      ],
      "image/png": "[encoded data removed]"
     },
     "metadata": {},
     "output_type": "display_data"
    }
   ],
   "execution_count": 16
  }
 ],
 "metadata": {
  "kernelspec": {
   "display_name": "Python 3",
   "language": "python",
   "name": "python3"
  },
  "language_info": {
   "codemirror_mode": {
    "name": "ipython",
    "version": 2
   },
   "file_extension": ".py",
   "mimetype": "text/x-python",
   "name": "python",
   "nbconvert_exporter": "python",
   "pygments_lexer": "ipython2",
   "version": "2.7.6"
  }
 },
 "nbformat": 4,
 "nbformat_minor": 5
}
