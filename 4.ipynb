{
 "cells": [
  {
   "metadata": {},
   "cell_type": "markdown",
   "source": [
    "Problem Statement No. 04 <br>\n",
    "Consider the Bangalore House Price Data. Perform following operations.\n",
    "a) Find and replace null values in the data using appropriate technique.\n",
    "b) Transform the ‘Size’ column to numerical values. For Example: 2 BHK to be converted as 2\n",
    "c) Transform the ‘total_sqft’ column to contain numerical values on same scale. If the range is given average value of\n",
    "the range to be taken.\n",
    "d) Calculate and add one more column as ‘Price_Per_Sqft’\n",
    "e) Remove the outliers from Price_Per_Sqft and BHK Size column if any.\n",
    "f) Apply the Linear Regression model to the data and display the training and testing performance measures as Mean\n",
    "Squared Error and Accuracy"
   ],
   "id": "b226a711cad469f4"
  },
  {
   "metadata": {
    "ExecuteTime": {
     "end_time": "2025-05-05T12:26:32.398871Z",
     "start_time": "2025-05-05T12:26:32.275191Z"
    }
   },
   "cell_type": "code",
   "source": [
    "import pandas as pd\n",
    "import numpy as np\n",
    "import matplotlib.pyplot as plt\n",
    "import seaborn as sns\n",
    "from sklearn.model_selection import train_test_split\n",
    "from sklearn.linear_model import LinearRegression\n",
    "from sklearn.metrics import mean_squared_error, r2_score"
   ],
   "id": "6b4de3b294d1a2a5",
   "outputs": [],
   "execution_count": 119
  },
  {
   "metadata": {
    "ExecuteTime": {
     "end_time": "2025-05-05T12:10:01.007823Z",
     "start_time": "2025-05-05T12:10:00.965733Z"
    }
   },
   "cell_type": "code",
   "source": [
    "df = pd.read_csv('data/Banglore_Housing_Prices.csv')\n",
    "df.info()"
   ],
   "id": "ba5a8c671b9a6855",
   "outputs": [
    {
     "name": "stdout",
     "output_type": "stream",
     "text": [
      "<class 'pandas.core.frame.DataFrame'>\n",
      "RangeIndex: 13320 entries, 0 to 13319\n",
      "Data columns (total 5 columns):\n",
      " #   Column      Non-Null Count  Dtype  \n",
      "---  ------      --------------  -----  \n",
      " 0   location    13319 non-null  object \n",
      " 1   size        13304 non-null  object \n",
      " 2   total_sqft  13320 non-null  object \n",
      " 3   bath        13247 non-null  float64\n",
      " 4   price       13320 non-null  float64\n",
      "dtypes: float64(2), object(3)\n",
      "memory usage: 520.4+ KB\n"
     ]
    }
   ],
   "execution_count": 103
  },
  {
   "metadata": {
    "ExecuteTime": {
     "end_time": "2025-05-05T12:10:01.066245Z",
     "start_time": "2025-05-05T12:10:01.051083Z"
    }
   },
   "cell_type": "code",
   "source": "df.head()",
   "id": "b8983d49b800d468",
   "outputs": [
    {
     "data": {
      "text/plain": [
       "                   location       size total_sqft  bath   price\n",
       "0  Electronic City Phase II      2 BHK       1056   2.0   39.07\n",
       "1          Chikka Tirupathi  4 Bedroom       2600   5.0  120.00\n",
       "2               Uttarahalli      3 BHK       1440   2.0   62.00\n",
       "3        Lingadheeranahalli      3 BHK       1521   3.0   95.00\n",
       "4                  Kothanur      2 BHK       1200   2.0   51.00"
      ],
      "text/html": [
       "<div>\n",
       "<style scoped>\n",
       "    .dataframe tbody tr th:only-of-type {\n",
       "        vertical-align: middle;\n",
       "    }\n",
       "\n",
       "    .dataframe tbody tr th {\n",
       "        vertical-align: top;\n",
       "    }\n",
       "\n",
       "    .dataframe thead th {\n",
       "        text-align: right;\n",
       "    }\n",
       "</style>\n",
       "<table border=\"1\" class=\"dataframe\">\n",
       "  <thead>\n",
       "    <tr style=\"text-align: right;\">\n",
       "      <th></th>\n",
       "      <th>location</th>\n",
       "      <th>size</th>\n",
       "      <th>total_sqft</th>\n",
       "      <th>bath</th>\n",
       "      <th>price</th>\n",
       "    </tr>\n",
       "  </thead>\n",
       "  <tbody>\n",
       "    <tr>\n",
       "      <th>0</th>\n",
       "      <td>Electronic City Phase II</td>\n",
       "      <td>2 BHK</td>\n",
       "      <td>1056</td>\n",
       "      <td>2.0</td>\n",
       "      <td>39.07</td>\n",
       "    </tr>\n",
       "    <tr>\n",
       "      <th>1</th>\n",
       "      <td>Chikka Tirupathi</td>\n",
       "      <td>4 Bedroom</td>\n",
       "      <td>2600</td>\n",
       "      <td>5.0</td>\n",
       "      <td>120.00</td>\n",
       "    </tr>\n",
       "    <tr>\n",
       "      <th>2</th>\n",
       "      <td>Uttarahalli</td>\n",
       "      <td>3 BHK</td>\n",
       "      <td>1440</td>\n",
       "      <td>2.0</td>\n",
       "      <td>62.00</td>\n",
       "    </tr>\n",
       "    <tr>\n",
       "      <th>3</th>\n",
       "      <td>Lingadheeranahalli</td>\n",
       "      <td>3 BHK</td>\n",
       "      <td>1521</td>\n",
       "      <td>3.0</td>\n",
       "      <td>95.00</td>\n",
       "    </tr>\n",
       "    <tr>\n",
       "      <th>4</th>\n",
       "      <td>Kothanur</td>\n",
       "      <td>2 BHK</td>\n",
       "      <td>1200</td>\n",
       "      <td>2.0</td>\n",
       "      <td>51.00</td>\n",
       "    </tr>\n",
       "  </tbody>\n",
       "</table>\n",
       "</div>"
      ]
     },
     "execution_count": 104,
     "metadata": {},
     "output_type": "execute_result"
    }
   ],
   "execution_count": 104
  },
  {
   "metadata": {
    "ExecuteTime": {
     "end_time": "2025-05-05T12:10:01.177542Z",
     "start_time": "2025-05-05T12:10:01.167546Z"
    }
   },
   "cell_type": "code",
   "source": "df.isnull().sum()",
   "id": "34dd6a71f94c12ff",
   "outputs": [
    {
     "data": {
      "text/plain": [
       "location       1\n",
       "size          16\n",
       "total_sqft     0\n",
       "bath          73\n",
       "price          0\n",
       "dtype: int64"
      ]
     },
     "execution_count": 105,
     "metadata": {},
     "output_type": "execute_result"
    }
   ],
   "execution_count": 105
  },
  {
   "metadata": {
    "ExecuteTime": {
     "end_time": "2025-05-05T12:10:01.335791Z",
     "start_time": "2025-05-05T12:10:01.321341Z"
    }
   },
   "cell_type": "code",
   "source": [
    "# a)\n",
    "# M1: just drop all rows with null!\n",
    "# df.dropna(inplace=True)\n",
    "\n",
    "# M2:\n",
    "df['location'] = df['location'].fillna(df['location'].mode().iloc[0])\n",
    "df['size'] = df['size'].fillna(df['size'].mode().iloc[0])\n",
    "df['bath'] = df['bath'].fillna(df['bath'].mean())"
   ],
   "id": "ea21020e3162572c",
   "outputs": [],
   "execution_count": 106
  },
  {
   "metadata": {
    "ExecuteTime": {
     "end_time": "2025-05-05T12:10:01.641329Z",
     "start_time": "2025-05-05T12:10:01.613722Z"
    }
   },
   "cell_type": "code",
   "source": [
    "# b)\n",
    "df['size'] = df['size'].apply(lambda x: int(x.split()[0]))\n",
    "df.head()"
   ],
   "id": "281967ec39ed31cd",
   "outputs": [
    {
     "data": {
      "text/plain": [
       "                   location  size total_sqft  bath   price\n",
       "0  Electronic City Phase II     2       1056   2.0   39.07\n",
       "1          Chikka Tirupathi     4       2600   5.0  120.00\n",
       "2               Uttarahalli     3       1440   2.0   62.00\n",
       "3        Lingadheeranahalli     3       1521   3.0   95.00\n",
       "4                  Kothanur     2       1200   2.0   51.00"
      ],
      "text/html": [
       "<div>\n",
       "<style scoped>\n",
       "    .dataframe tbody tr th:only-of-type {\n",
       "        vertical-align: middle;\n",
       "    }\n",
       "\n",
       "    .dataframe tbody tr th {\n",
       "        vertical-align: top;\n",
       "    }\n",
       "\n",
       "    .dataframe thead th {\n",
       "        text-align: right;\n",
       "    }\n",
       "</style>\n",
       "<table border=\"1\" class=\"dataframe\">\n",
       "  <thead>\n",
       "    <tr style=\"text-align: right;\">\n",
       "      <th></th>\n",
       "      <th>location</th>\n",
       "      <th>size</th>\n",
       "      <th>total_sqft</th>\n",
       "      <th>bath</th>\n",
       "      <th>price</th>\n",
       "    </tr>\n",
       "  </thead>\n",
       "  <tbody>\n",
       "    <tr>\n",
       "      <th>0</th>\n",
       "      <td>Electronic City Phase II</td>\n",
       "      <td>2</td>\n",
       "      <td>1056</td>\n",
       "      <td>2.0</td>\n",
       "      <td>39.07</td>\n",
       "    </tr>\n",
       "    <tr>\n",
       "      <th>1</th>\n",
       "      <td>Chikka Tirupathi</td>\n",
       "      <td>4</td>\n",
       "      <td>2600</td>\n",
       "      <td>5.0</td>\n",
       "      <td>120.00</td>\n",
       "    </tr>\n",
       "    <tr>\n",
       "      <th>2</th>\n",
       "      <td>Uttarahalli</td>\n",
       "      <td>3</td>\n",
       "      <td>1440</td>\n",
       "      <td>2.0</td>\n",
       "      <td>62.00</td>\n",
       "    </tr>\n",
       "    <tr>\n",
       "      <th>3</th>\n",
       "      <td>Lingadheeranahalli</td>\n",
       "      <td>3</td>\n",
       "      <td>1521</td>\n",
       "      <td>3.0</td>\n",
       "      <td>95.00</td>\n",
       "    </tr>\n",
       "    <tr>\n",
       "      <th>4</th>\n",
       "      <td>Kothanur</td>\n",
       "      <td>2</td>\n",
       "      <td>1200</td>\n",
       "      <td>2.0</td>\n",
       "      <td>51.00</td>\n",
       "    </tr>\n",
       "  </tbody>\n",
       "</table>\n",
       "</div>"
      ]
     },
     "execution_count": 107,
     "metadata": {},
     "output_type": "execute_result"
    }
   ],
   "execution_count": 107
  },
  {
   "metadata": {
    "ExecuteTime": {
     "end_time": "2025-05-05T12:10:01.778867Z",
     "start_time": "2025-05-05T12:10:01.764130Z"
    }
   },
   "cell_type": "code",
   "source": [
    "# c)\n",
    "def convert(val):\n",
    "    if '-' in val:\n",
    "        x = val.split()\n",
    "        return round((float(x[0]) + float(x[-1])) / 2)\n",
    "    else:\n",
    "        try:\n",
    "            return float(val)\n",
    "        except ValueError:\n",
    "            return np.nan\n",
    "df['total_sqft'] = df['total_sqft'].apply(convert)"
   ],
   "id": "27a226a601a7a85c",
   "outputs": [],
   "execution_count": 108
  },
  {
   "metadata": {
    "ExecuteTime": {
     "end_time": "2025-05-05T12:10:01.907174Z",
     "start_time": "2025-05-05T12:10:01.895599Z"
    }
   },
   "cell_type": "code",
   "source": "df.isnull().sum()",
   "id": "a1642f09150a39d6",
   "outputs": [
    {
     "data": {
      "text/plain": [
       "location       0\n",
       "size           0\n",
       "total_sqft    46\n",
       "bath           0\n",
       "price          0\n",
       "dtype: int64"
      ]
     },
     "execution_count": 109,
     "metadata": {},
     "output_type": "execute_result"
    }
   ],
   "execution_count": 109
  },
  {
   "metadata": {
    "ExecuteTime": {
     "end_time": "2025-05-05T12:10:02.032204Z",
     "start_time": "2025-05-05T12:10:02.023116Z"
    }
   },
   "cell_type": "code",
   "source": "df['total_sqft'].info()",
   "id": "35c02d0171c16fd7",
   "outputs": [
    {
     "name": "stdout",
     "output_type": "stream",
     "text": [
      "<class 'pandas.core.series.Series'>\n",
      "RangeIndex: 13320 entries, 0 to 13319\n",
      "Series name: total_sqft\n",
      "Non-Null Count  Dtype  \n",
      "--------------  -----  \n",
      "13274 non-null  float64\n",
      "dtypes: float64(1)\n",
      "memory usage: 104.2 KB\n"
     ]
    }
   ],
   "execution_count": 110
  },
  {
   "metadata": {
    "ExecuteTime": {
     "end_time": "2025-05-05T12:10:02.134667Z",
     "start_time": "2025-05-05T12:10:02.129426Z"
    }
   },
   "cell_type": "code",
   "source": "df['total_sqft'] = df['total_sqft'].fillna(df['total_sqft'].mean())",
   "id": "7c18cff91c47dccd",
   "outputs": [],
   "execution_count": 111
  },
  {
   "metadata": {
    "ExecuteTime": {
     "end_time": "2025-05-05T12:10:02.198931Z",
     "start_time": "2025-05-05T12:10:02.189685Z"
    }
   },
   "cell_type": "code",
   "source": [
    "# d)\n",
    "# price is in 100k\n",
    "df['price_per_sqft'] = (df['price'] * 100000 / df[\"total_sqft\"])\n",
    "print(df.head())"
   ],
   "id": "dd98cdd8807ac4c1",
   "outputs": [
    {
     "name": "stdout",
     "output_type": "stream",
     "text": [
      "                   location  size  total_sqft  bath   price  price_per_sqft\n",
      "0  Electronic City Phase II     2      1056.0   2.0   39.07     3699.810606\n",
      "1          Chikka Tirupathi     4      2600.0   5.0  120.00     4615.384615\n",
      "2               Uttarahalli     3      1440.0   2.0   62.00     4305.555556\n",
      "3        Lingadheeranahalli     3      1521.0   3.0   95.00     6245.890861\n",
      "4                  Kothanur     2      1200.0   2.0   51.00     4250.000000\n"
     ]
    }
   ],
   "execution_count": 112
  },
  {
   "metadata": {
    "ExecuteTime": {
     "end_time": "2025-05-05T12:10:02.470977Z",
     "start_time": "2025-05-05T12:10:02.275760Z"
    }
   },
   "cell_type": "code",
   "source": [
    "# e)\n",
    "sns.boxplot(x=df['size'])"
   ],
   "id": "e1a85ba6914e73e1",
   "outputs": [
    {
     "data": {
      "text/plain": [
       "<Axes: xlabel='size'>"
      ]
     },
     "execution_count": 113,
     "metadata": {},
     "output_type": "execute_result"
    },
    {
     "data": {
      "text/plain": [
       "<Figure size 640x480 with 1 Axes>"
      ],
      "image/png": "[encoded data removed]"
     },
     "metadata": {},
     "output_type": "display_data"
    }
   ],
   "execution_count": 113
  },
  {
   "metadata": {
    "ExecuteTime": {
     "end_time": "2025-05-05T12:10:02.515971Z",
     "start_time": "2025-05-05T12:10:02.500932Z"
    }
   },
   "cell_type": "code",
   "source": [
    "lst = ['price_per_sqft', 'size']\n",
    "for col in lst:\n",
    "    q1 = df[col].quantile(0.25)\n",
    "    q3 = df[col].quantile(0.75)\n",
    "    iqr = q3 - q1\n",
    "    upper = q3 + 1.5 * iqr\n",
    "    lower = q1 - 1.5 * iqr\n",
    "\n",
    "    df[col] = np.where(df[col] > upper, upper, df[col])\n",
    "    df[col] = np.where(df[col] < lower, lower, df[col])"
   ],
   "id": "922ae22814103cfc",
   "outputs": [],
   "execution_count": 114
  },
  {
   "metadata": {
    "ExecuteTime": {
     "end_time": "2025-05-05T12:10:02.789469Z",
     "start_time": "2025-05-05T12:10:02.561368Z"
    }
   },
   "cell_type": "code",
   "source": "sns.boxplot(x=df['size'])",
   "id": "21e9977e2ba429c5",
   "outputs": [
    {
     "data": {
      "text/plain": [
       "<Axes: xlabel='size'>"
      ]
     },
     "execution_count": 115,
     "metadata": {},
     "output_type": "execute_result"
    },
    {
     "data": {
      "text/plain": [
       "<Figure size 640x480 with 1 Axes>"
      ],
      "image/png": "[encoded data removed]"
     },
     "metadata": {},
     "output_type": "display_data"
    }
   ],
   "execution_count": 115
  },
  {
   "metadata": {
    "ExecuteTime": {
     "end_time": "2025-05-05T12:27:39.476719Z",
     "start_time": "2025-05-05T12:27:39.443255Z"
    }
   },
   "cell_type": "code",
   "source": [
    "# f)\n",
    "x = df.drop(columns=['price', 'location'])\n",
    "y = df['price']\n",
    "x_train, x_test, y_train, y_test = train_test_split(x, y, test_size=0.2, random_state=42)\n",
    "model = LinearRegression()\n",
    "model.fit(x_train, y_train)\n",
    "y_pred = model.predict(x_test)\n",
    "\n",
    "mse = mean_squared_error(y_test, y_pred)\n",
    "accuracy = r2_score(y_test, y_pred)\n",
    "\n",
    "print(\"mean-sq.acc = \", mse)\n",
    "print(\"accuracy = \", accuracy)\n"
   ],
   "id": "f259b318cb39d390",
   "outputs": [
    {
     "name": "stdout",
     "output_type": "stream",
     "text": [
      "mean-sq.acc =  7251.882313722856\n",
      "accuracy =  0.6593847334151042\n"
     ]
    }
   ],
   "execution_count": 121
  },
  {
   "metadata": {},
   "cell_type": "code",
   "outputs": [],
   "execution_count": null,
   "source": [
    "# mean-sq.error: The average squared difference between actual and predicted values\n",
    "# r2 : How well does my model fit the data 0 <= r2 <= 1"
   ],
   "id": "54c3db5bbcd3df2f"
  }
 ],
 "metadata": {
  "kernelspec": {
   "display_name": "Python 3",
   "language": "python",
   "name": "python3"
  },
  "language_info": {
   "codemirror_mode": {
    "name": "ipython",
    "version": 2
   },
   "file_extension": ".py",
   "mimetype": "text/x-python",
   "name": "python",
   "nbconvert_exporter": "python",
   "pygments_lexer": "ipython2",
   "version": "2.7.6"
  }
 },
 "nbformat": 4,
 "nbformat_minor": 5
}
