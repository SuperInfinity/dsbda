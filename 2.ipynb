{
 "cells": [
  {
   "metadata": {},
   "cell_type": "markdown",
   "source": [
    "Problem Statement No. 02\n",
    "Perform the following operations on Age-Income dataset (Age-Income-Dataset.csv)\n",
    "Provide summary statistics (mean, median, minimum, maximum, standard deviation) for numeric variables with and\n",
    "without using any library functions.\n",
    "Provide summary statistics of income grouped by the age groups. Create a list that contains a numeric value for each\n",
    "response to the categorical variable."
   ],
   "id": "bbeef55b03eb1120"
  },
  {
   "metadata": {
    "ExecuteTime": {
     "end_time": "2025-05-05T09:06:20.888844Z",
     "start_time": "2025-05-05T09:06:20.885706Z"
    }
   },
   "cell_type": "code",
   "source": [
    "import pandas as pd\n",
    "import seaborn as sns"
   ],
   "id": "5dc2891f956c32e5",
   "outputs": [],
   "execution_count": 3
  },
  {
   "metadata": {
    "ExecuteTime": {
     "end_time": "2025-05-05T09:07:19.473454Z",
     "start_time": "2025-05-05T09:07:19.455506Z"
    }
   },
   "cell_type": "code",
   "source": [
    "df = pd.read_excel('data/Age-Income-Dataset.xlsx')\n",
    "df.info()"
   ],
   "id": "d8d81334d589f190",
   "outputs": [
    {
     "name": "stdout",
     "output_type": "stream",
     "text": [
      "<class 'pandas.core.frame.DataFrame'>\n",
      "RangeIndex: 50 entries, 0 to 49\n",
      "Data columns (total 2 columns):\n",
      " #   Column  Non-Null Count  Dtype \n",
      "---  ------  --------------  ----- \n",
      " 0   Age     50 non-null     object\n",
      " 1   Income  50 non-null     int64 \n",
      "dtypes: int64(1), object(1)\n",
      "memory usage: 932.0+ bytes\n"
     ]
    }
   ],
   "execution_count": 11
  },
  {
   "metadata": {
    "ExecuteTime": {
     "end_time": "2025-05-05T09:08:06.558173Z",
     "start_time": "2025-05-05T09:08:06.546948Z"
    }
   },
   "cell_type": "code",
   "source": "df.head()",
   "id": "e21508ad92fe2060",
   "outputs": [
    {
     "data": {
      "text/plain": [
       "          Age  Income\n",
       "0       Young   25000\n",
       "1  Middle Age   54000\n",
       "2         Old   60000\n",
       "3       Young   15000\n",
       "4       Young   45000"
      ],
      "text/html": [
       "<div>\n",
       "<style scoped>\n",
       "    .dataframe tbody tr th:only-of-type {\n",
       "        vertical-align: middle;\n",
       "    }\n",
       "\n",
       "    .dataframe tbody tr th {\n",
       "        vertical-align: top;\n",
       "    }\n",
       "\n",
       "    .dataframe thead th {\n",
       "        text-align: right;\n",
       "    }\n",
       "</style>\n",
       "<table border=\"1\" class=\"dataframe\">\n",
       "  <thead>\n",
       "    <tr style=\"text-align: right;\">\n",
       "      <th></th>\n",
       "      <th>Age</th>\n",
       "      <th>Income</th>\n",
       "    </tr>\n",
       "  </thead>\n",
       "  <tbody>\n",
       "    <tr>\n",
       "      <th>0</th>\n",
       "      <td>Young</td>\n",
       "      <td>25000</td>\n",
       "    </tr>\n",
       "    <tr>\n",
       "      <th>1</th>\n",
       "      <td>Middle Age</td>\n",
       "      <td>54000</td>\n",
       "    </tr>\n",
       "    <tr>\n",
       "      <th>2</th>\n",
       "      <td>Old</td>\n",
       "      <td>60000</td>\n",
       "    </tr>\n",
       "    <tr>\n",
       "      <th>3</th>\n",
       "      <td>Young</td>\n",
       "      <td>15000</td>\n",
       "    </tr>\n",
       "    <tr>\n",
       "      <th>4</th>\n",
       "      <td>Young</td>\n",
       "      <td>45000</td>\n",
       "    </tr>\n",
       "  </tbody>\n",
       "</table>\n",
       "</div>"
      ]
     },
     "execution_count": 14,
     "metadata": {},
     "output_type": "execute_result"
    }
   ],
   "execution_count": 14
  },
  {
   "metadata": {
    "ExecuteTime": {
     "end_time": "2025-05-05T09:06:56.309472Z",
     "start_time": "2025-05-05T09:06:56.300480Z"
    }
   },
   "cell_type": "code",
   "source": "df.info()",
   "id": "51608c70b81eb9d6",
   "outputs": [
    {
     "name": "stdout",
     "output_type": "stream",
     "text": [
      "<class 'pandas.core.frame.DataFrame'>\n",
      "Index: 0 entries\n",
      "Data columns (total 2 columns):\n",
      " #   Column  Non-Null Count  Dtype\n",
      "---  ------  --------------  -----\n",
      " 0   Age     0 non-null      int64\n",
      " 1   Income  0 non-null      int64\n",
      "dtypes: int64(2)\n",
      "memory usage: 0.0 bytes\n"
     ]
    }
   ],
   "execution_count": 10
  },
  {
   "metadata": {
    "ExecuteTime": {
     "end_time": "2025-05-05T09:38:37.856378Z",
     "start_time": "2025-05-05T09:38:37.848206Z"
    }
   },
   "cell_type": "code",
   "source": [
    "# without lib. func!\n",
    "num = df['Income']\n",
    "num = sorted(num)\n",
    "\n",
    "print(\"min = \", num[0])\n",
    "print(\"max = \", num[-1])\n",
    "\n",
    "# median & mean\n",
    "n = len(num)\n",
    "mean = sum(num) / n\n",
    "print(\"mean = \", mean)\n",
    "\n",
    "if n % 2 == 0:\n",
    "    median = (num[(n // 2)] + num[(n // 2) - 1]) / 2\n",
    "else:\n",
    "    median = num[n // 2]\n",
    "\n",
    "print(\"median = \", median)\n",
    "\n",
    "# mode\n",
    "mode = None\n",
    "m = 0\n",
    "for i in set(num):\n",
    "    count = num.count(i)\n",
    "    if count >= m:\n",
    "        mode = i\n",
    "        m = count\n",
    "print(\"mode = \", mode)\n",
    "\n",
    "s = 0\n",
    "for i in num:\n",
    "    s += (i - mean) ** 2\n",
    "\n",
    "std_dev = (s / n) ** 0.5\n",
    "print(\"Standard Deviation =\", std_dev)"
   ],
   "id": "3304299bd2e6d4dc",
   "outputs": [
    {
     "name": "stdout",
     "output_type": "stream",
     "text": [
      "min =  15000\n",
      "max =  93000\n",
      "mean =  50966.0\n",
      "median =  46850.0\n",
      "mode =  23000\n",
      "Standard Deviation = 20884.6509187968\n"
     ]
    }
   ],
   "execution_count": 35
  },
  {
   "metadata": {
    "ExecuteTime": {
     "end_time": "2025-05-05T09:39:55.377931Z",
     "start_time": "2025-05-05T09:39:55.371352Z"
    }
   },
   "cell_type": "code",
   "source": [
    "# With lib. func!\n",
    "print(\"mean = \", df['Income'].mean())\n",
    "print(\"mode = \", df['Income'].mode())\n",
    "print(\"median = \", df['Income'].median())\n",
    "print(\"stc dev = \", df['Income'].std(ddof=0))"
   ],
   "id": "ae17426273f1200f",
   "outputs": [
    {
     "name": "stdout",
     "output_type": "stream",
     "text": [
      "mean =  50966.0\n",
      "mode =  0    23000\n",
      "1    25600\n",
      "2    45000\n",
      "3    65400\n",
      "4    80000\n",
      "Name: Income, dtype: int64\n",
      "median =  46850.0\n",
      "stc dev =  20884.6509187968\n"
     ]
    }
   ],
   "execution_count": 36
  },
  {
   "metadata": {
    "ExecuteTime": {
     "end_time": "2025-05-05T09:46:12.631894Z",
     "start_time": "2025-05-05T09:46:12.617405Z"
    }
   },
   "cell_type": "code",
   "source": "print(df.head())",
   "id": "17ca74d956d09e20",
   "outputs": [
    {
     "name": "stdout",
     "output_type": "stream",
     "text": [
      "          Age  Income\n",
      "0       Young   25000\n",
      "1  Middle Age   54000\n",
      "2         Old   60000\n",
      "3       Young   15000\n",
      "4       Young   45000\n"
     ]
    }
   ],
   "execution_count": 38
  },
  {
   "metadata": {
    "ExecuteTime": {
     "end_time": "2025-05-05T10:13:47.079774Z",
     "start_time": "2025-05-05T10:13:47.037966Z"
    }
   },
   "cell_type": "code",
   "source": [
    "grouped = df.groupby('Age')['Income'].describe()\n",
    "l = grouped.values.tolist()\n",
    "print(l)"
   ],
   "id": "e4fddabecc7711ea",
   "outputs": [
    {
     "name": "stdout",
     "output_type": "stream",
     "text": [
      "[[15.0, 52453.333333333336, 20497.800114251517, 25600.0, 36900.0, 53200.0, 61200.0, 93000.0], [19.0, 53942.10526315789, 20868.165968220423, 24500.0, 38700.0, 45300.0, 71400.0, 89700.0], [16.0, 46037.5, 22356.859499193233, 15000.0, 28750.0, 41500.0, 65850.0, 87000.0]]\n"
     ]
    }
   ],
   "execution_count": 61
  }
 ],
 "metadata": {
  "kernelspec": {
   "display_name": "Python 3",
   "language": "python",
   "name": "python3"
  },
  "language_info": {
   "codemirror_mode": {
    "name": "ipython",
    "version": 2
   },
   "file_extension": ".py",
   "mimetype": "text/x-python",
   "name": "python",
   "nbconvert_exporter": "python",
   "pygments_lexer": "ipython2",
   "version": "2.7.6"
  }
 },
 "nbformat": 4,
 "nbformat_minor": 5
}
