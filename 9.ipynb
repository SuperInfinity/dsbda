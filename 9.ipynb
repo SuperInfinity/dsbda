{
 "cells": [
  {
   "metadata": {},
   "cell_type": "markdown",
   "source": [
    "Problem Statement No. 09\n",
    "1. Implement Simple Naïve Bayes classification algorithm using Python/R on iris.csv dataset.\n",
    "2. Compute Confusion matrix to find TP, FP, TN, FN, Accuracy, Error rate, Precision, Recall on the given dataset\n",
    "Use iris.csv Diabetes.csv"
   ],
   "id": "454a7d1410c878b0"
  },
  {
   "metadata": {
    "ExecuteTime": {
     "end_time": "2025-05-05T16:00:21.800385Z",
     "start_time": "2025-05-05T16:00:21.794029Z"
    }
   },
   "cell_type": "code",
   "source": [
    "from pdb import set_trace\n",
    "\n",
    "import pandas as pd\n",
    "import numpy as np\n",
    "import seaborn as sns\n",
    "from sklearn.model_selection import train_test_split\n",
    "from sklearn.preprocessing import StandardScaler, LabelEncoder\n",
    "from sklearn.naive_bayes import GaussianNB\n",
    "from sklearn.metrics import accuracy_score, precision_score, recall_score, confusion_matrix"
   ],
   "id": "8ea7a1371caa43ea",
   "outputs": [],
   "execution_count": 9
  },
  {
   "metadata": {
    "ExecuteTime": {
     "end_time": "2025-05-05T16:00:21.857769Z",
     "start_time": "2025-05-05T16:00:21.844388Z"
    }
   },
   "cell_type": "code",
   "source": [
    "df = pd.read_csv('data/Iris.csv')\n",
    "df.info()"
   ],
   "id": "9d4e5a7eaa9f7cbf",
   "outputs": [
    {
     "name": "stdout",
     "output_type": "stream",
     "text": [
      "<class 'pandas.core.frame.DataFrame'>\n",
      "RangeIndex: 150 entries, 0 to 149\n",
      "Data columns (total 6 columns):\n",
      " #   Column         Non-Null Count  Dtype  \n",
      "---  ------         --------------  -----  \n",
      " 0   Id             150 non-null    int64  \n",
      " 1   SepalLengthCm  150 non-null    float64\n",
      " 2   SepalWidthCm   150 non-null    float64\n",
      " 3   PetalLengthCm  150 non-null    float64\n",
      " 4   PetalWidthCm   150 non-null    float64\n",
      " 5   Species        150 non-null    object \n",
      "dtypes: float64(4), int64(1), object(1)\n",
      "memory usage: 7.2+ KB\n"
     ]
    }
   ],
   "execution_count": 10
  },
  {
   "metadata": {
    "ExecuteTime": {
     "end_time": "2025-05-05T16:00:21.969815Z",
     "start_time": "2025-05-05T16:00:21.959709Z"
    }
   },
   "cell_type": "code",
   "source": "df.isnull().sum()",
   "id": "6b064dce372ffab2",
   "outputs": [
    {
     "data": {
      "text/plain": [
       "Id               0\n",
       "SepalLengthCm    0\n",
       "SepalWidthCm     0\n",
       "PetalLengthCm    0\n",
       "PetalWidthCm     0\n",
       "Species          0\n",
       "dtype: int64"
      ]
     },
     "execution_count": 11,
     "metadata": {},
     "output_type": "execute_result"
    }
   ],
   "execution_count": 11
  },
  {
   "metadata": {
    "ExecuteTime": {
     "end_time": "2025-05-05T16:00:22.148577Z",
     "start_time": "2025-05-05T16:00:22.142478Z"
    }
   },
   "cell_type": "code",
   "source": [
    "x = df.drop(columns=['Species'], axis=1)\n",
    "y = df['Species']"
   ],
   "id": "be983226d9dd62fe",
   "outputs": [],
   "execution_count": 12
  },
  {
   "metadata": {
    "ExecuteTime": {
     "end_time": "2025-05-05T16:00:22.298858Z",
     "start_time": "2025-05-05T16:00:22.277286Z"
    }
   },
   "cell_type": "code",
   "source": [
    "x_train, x_test, y_train, y_test = train_test_split(x, y, test_size=0.2, random_state=42)\n",
    "\n",
    "scaler = StandardScaler()\n",
    "x_train = scaler.fit_transform(x_train)\n",
    "x_test = scaler.fit_transform(x_test)"
   ],
   "id": "c7cabd923748a317",
   "outputs": [],
   "execution_count": 13
  },
  {
   "metadata": {
    "ExecuteTime": {
     "end_time": "2025-05-05T16:00:22.513681Z",
     "start_time": "2025-05-05T16:00:22.504452Z"
    }
   },
   "cell_type": "code",
   "source": [
    "model = GaussianNB()\n",
    "model.fit(x_train, y_train)\n",
    "\n",
    "pred = model.predict(x_test)"
   ],
   "id": "e8592a2624acc560",
   "outputs": [],
   "execution_count": 14
  },
  {
   "metadata": {
    "ExecuteTime": {
     "end_time": "2025-05-05T16:00:22.913865Z",
     "start_time": "2025-05-05T16:00:22.608323Z"
    }
   },
   "cell_type": "code",
   "source": [
    "acc = accuracy_score(y_test, pred)\n",
    "prec = precision_score(y_test, pred, average='macro')\n",
    "recall = recall_score(y_test, pred, average='macro')\n",
    "print(\"accuracy = \", acc)\n",
    "print(\"precision = \", prec)\n",
    "print(\"recall = \", recall)\n",
    "cm = confusion_matrix(y_test, pred)\n",
    "sns.heatmap(cm, annot=True)"
   ],
   "id": "9d26769472b28291",
   "outputs": [
    {
     "name": "stdout",
     "output_type": "stream",
     "text": [
      "accuracy =  1.0\n",
      "precision =  1.0\n",
      "recall =  1.0\n"
     ]
    },
    {
     "data": {
      "text/plain": [
       "<Axes: >"
      ]
     },
     "execution_count": 15,
     "metadata": {},
     "output_type": "execute_result"
    },
    {
     "data": {
      "text/plain": [
       "<Figure size 640x480 with 2 Axes>"
      ],
      "image/png": "[encoded data removed]"
     },
     "metadata": {},
     "output_type": "display_data"
    }
   ],
   "execution_count": 15
  }
 ],
 "metadata": {
  "kernelspec": {
   "display_name": "Python 3",
   "language": "python",
   "name": "python3"
  },
  "language_info": {
   "codemirror_mode": {
    "name": "ipython",
    "version": 2
   },
   "file_extension": ".py",
   "mimetype": "text/x-python",
   "name": "python",
   "nbconvert_exporter": "python",
   "pygments_lexer": "ipython2",
   "version": "2.7.6"
  }
 },
 "nbformat": 4,
 "nbformat_minor": 5
}
