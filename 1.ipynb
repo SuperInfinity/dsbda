{
 "cells": [
  {
   "metadata": {},
   "cell_type": "markdown",
   "source": [
    "Problem Statement No. 01\n",
    "Consider the “Academic performance” dataset of students (Academic_Performance_Dataset.csv) and perform the\n",
    "following operations using Python.<br>\n",
    "a) Scan all variables for missing values and inconsistencies. If there are missing values and/or inconsistencies, use any\n",
    "of the suitable techniques to deal with them.\n",
    "b) Scan all numeric variables for outliers. If there are outliers, use any of the suitable techniques to deal with them.\n",
    "c) Apply data transformations on categorical variables to convert it into numerical variables.\n",
    "Reason and document your approach properly."
   ],
   "id": "6c877990cf90e7b3"
  },
  {
   "cell_type": "code",
   "id": "initial_id",
   "metadata": {
    "collapsed": true,
    "ExecuteTime": {
     "end_time": "2025-05-05T08:34:42.213788Z",
     "start_time": "2025-05-05T08:34:42.210090Z"
    }
   },
   "source": [
    "import numpy as np\n",
    "import pandas as pd\n",
    "import matplotlib.pyplot as plt\n",
    "import seaborn as sns\n"
   ],
   "outputs": [],
   "execution_count": 1
  },
  {
   "metadata": {
    "ExecuteTime": {
     "end_time": "2025-05-05T08:34:42.286082Z",
     "start_time": "2025-05-05T08:34:42.241113Z"
    }
   },
   "cell_type": "code",
   "source": "df = pd.read_csv(\"data/Academic_Performance.csv\")",
   "id": "123f3e65efe3e330",
   "outputs": [],
   "execution_count": 2
  },
  {
   "metadata": {
    "ExecuteTime": {
     "end_time": "2025-05-05T08:34:42.474480Z",
     "start_time": "2025-05-05T08:34:42.459542Z"
    }
   },
   "cell_type": "code",
   "source": "df.info()",
   "id": "c6c84914a725529",
   "outputs": [
    {
     "name": "stdout",
     "output_type": "stream",
     "text": [
      "<class 'pandas.core.frame.DataFrame'>\n",
      "RangeIndex: 12411 entries, 0 to 12410\n",
      "Data columns (total 13 columns):\n",
      " #   Column              Non-Null Count  Dtype  \n",
      "---  ------              --------------  -----  \n",
      " 0   STUDENT_ID          12411 non-null  object \n",
      " 1   GENDER              12389 non-null  object \n",
      " 2   PLACEMENT           12396 non-null  object \n",
      " 3   HONOR_OPTED_OR_NOT  12397 non-null  object \n",
      " 4   EDUCATION_TYPE      12396 non-null  object \n",
      " 5   ACADEMIC_PROGRAM    12377 non-null  object \n",
      " 6   COURSE 1 MARKS      12400 non-null  float64\n",
      " 7   COURSE 2 MARKS      12403 non-null  float64\n",
      " 8   COURSE 3 MARKS      12397 non-null  float64\n",
      " 9   COURSE 4 MARKS      12397 non-null  float64\n",
      " 10  COURSE 5 MARKS      12389 non-null  float64\n",
      " 11  PERCENTILE          12411 non-null  int64  \n",
      " 12  OVEARLL_GRADE       12411 non-null  object \n",
      "dtypes: float64(5), int64(1), object(7)\n",
      "memory usage: 1.2+ MB\n"
     ]
    }
   ],
   "execution_count": 3
  },
  {
   "metadata": {
    "ExecuteTime": {
     "end_time": "2025-05-05T08:34:42.538659Z",
     "start_time": "2025-05-05T08:34:42.522375Z"
    }
   },
   "cell_type": "code",
   "source": "df.isnull().sum()",
   "id": "4587738c68181213",
   "outputs": [
    {
     "data": {
      "text/plain": [
       "STUDENT_ID             0\n",
       "GENDER                22\n",
       "PLACEMENT             15\n",
       "HONOR_OPTED_OR_NOT    14\n",
       "EDUCATION_TYPE        15\n",
       "ACADEMIC_PROGRAM      34\n",
       "COURSE 1 MARKS        11\n",
       "COURSE 2 MARKS         8\n",
       "COURSE 3 MARKS        14\n",
       "COURSE 4 MARKS        14\n",
       "COURSE 5 MARKS        22\n",
       "PERCENTILE             0\n",
       "OVEARLL_GRADE          0\n",
       "dtype: int64"
      ]
     },
     "execution_count": 4,
     "metadata": {},
     "output_type": "execute_result"
    }
   ],
   "execution_count": 4
  },
  {
   "metadata": {
    "ExecuteTime": {
     "end_time": "2025-05-05T08:34:42.761971Z",
     "start_time": "2025-05-05T08:34:42.758247Z"
    }
   },
   "cell_type": "code",
   "source": "print(df.shape)",
   "id": "7bf5d08ee3db6b86",
   "outputs": [
    {
     "name": "stdout",
     "output_type": "stream",
     "text": [
      "(12411, 13)\n"
     ]
    }
   ],
   "execution_count": 5
  },
  {
   "metadata": {
    "ExecuteTime": {
     "end_time": "2025-05-05T08:34:43.407989Z",
     "start_time": "2025-05-05T08:34:43.403985Z"
    }
   },
   "cell_type": "code",
   "source": [
    "# a)\n",
    "# M1: just drop all rows with null values\n",
    "# df.dropna(inplace=True)"
   ],
   "id": "5e2de0f198ff7007",
   "outputs": [],
   "execution_count": 6
  },
  {
   "metadata": {
    "ExecuteTime": {
     "end_time": "2025-05-05T08:34:43.931423Z",
     "start_time": "2025-05-05T08:34:43.857660Z"
    }
   },
   "cell_type": "code",
   "source": [
    "# M2: fill numerical values with 0 or mean and cat. cols with mode\n",
    "num = df.select_dtypes(include=['int64', 'float64']).columns\n",
    "cat = df.select_dtypes(include=['object']).columns\n",
    "\n",
    "df[num] = df[num].fillna(value=0)\n",
    "df[cat] = df[cat].fillna(value=df[cat].mode().iloc[0])"
   ],
   "id": "ac297419f0b74e58",
   "outputs": [],
   "execution_count": 7
  },
  {
   "metadata": {
    "ExecuteTime": {
     "end_time": "2025-05-05T08:34:44.034967Z",
     "start_time": "2025-05-05T08:34:44.024517Z"
    }
   },
   "cell_type": "code",
   "source": [
    "# Remove one -1 value from the marks 1 column (CAN BE SKIPPED!)\n",
    "df['COURSE 1 MARKS'] = df['COURSE 1 MARKS'].apply(lambda x: x if 0 <= x <= 100 else 0)"
   ],
   "id": "bfc3698422f78d37",
   "outputs": [],
   "execution_count": 8
  },
  {
   "metadata": {
    "ExecuteTime": {
     "end_time": "2025-05-05T08:34:44.137975Z",
     "start_time": "2025-05-05T08:34:44.124678Z"
    }
   },
   "cell_type": "code",
   "source": "df.isnull().sum()",
   "id": "eb864d9f59766ff3",
   "outputs": [
    {
     "data": {
      "text/plain": [
       "STUDENT_ID            0\n",
       "GENDER                0\n",
       "PLACEMENT             0\n",
       "HONOR_OPTED_OR_NOT    0\n",
       "EDUCATION_TYPE        0\n",
       "ACADEMIC_PROGRAM      0\n",
       "COURSE 1 MARKS        0\n",
       "COURSE 2 MARKS        0\n",
       "COURSE 3 MARKS        0\n",
       "COURSE 4 MARKS        0\n",
       "COURSE 5 MARKS        0\n",
       "PERCENTILE            0\n",
       "OVEARLL_GRADE         0\n",
       "dtype: int64"
      ]
     },
     "execution_count": 9,
     "metadata": {},
     "output_type": "execute_result"
    }
   ],
   "execution_count": 9
  },
  {
   "metadata": {
    "ExecuteTime": {
     "end_time": "2025-05-05T08:34:45.101365Z",
     "start_time": "2025-05-05T08:34:44.346587Z"
    }
   },
   "cell_type": "code",
   "source": [
    "# b)\n",
    "num = df.select_dtypes(include=['int64', 'float64'])\n",
    "plt.figure(figsize = (12, 8))\n",
    "sns.boxplot(num)"
   ],
   "id": "cd2dbf1fac06d547",
   "outputs": [
    {
     "data": {
      "text/plain": [
       "<Axes: >"
      ]
     },
     "execution_count": 10,
     "metadata": {},
     "output_type": "execute_result"
    },
    {
     "data": {
      "text/plain": [
       "<Figure size 1200x800 with 1 Axes>"
      ],
      "image/png": "[encoded data removed]"
     },
     "metadata": {},
     "output_type": "display_data"
    }
   ],
   "execution_count": 10
  },
  {
   "metadata": {
    "ExecuteTime": {
     "end_time": "2025-05-05T08:42:44.993195Z",
     "start_time": "2025-05-05T08:42:44.904225Z"
    }
   },
   "cell_type": "code",
   "source": [
    "num = df.select_dtypes(include=['int64', 'float64']).columns\n",
    "\n",
    "def rm_outliers(df:pd.DataFrame, col: pd.DataFrame.columns):\n",
    "    q1 = df[col].quantile(0.25)\n",
    "    q3 = df[col].quantile(0.75)\n",
    "    iqr = q3 - q1\n",
    "    upper = q3 + 1.5*iqr\n",
    "    lower = q1 - 1.5*iqr\n",
    "\n",
    "    df = df[(df[col] >= lower) & (df[col] <= upper)]\n",
    "    return df\n",
    "\n",
    "for col in num:\n",
    "    rm_outliers(df, col)"
   ],
   "id": "7fa8a713e480f967",
   "outputs": [],
   "execution_count": 15
  },
  {
   "metadata": {
    "ExecuteTime": {
     "end_time": "2025-05-05T08:42:47.479270Z",
     "start_time": "2025-05-05T08:42:46.779540Z"
    }
   },
   "cell_type": "code",
   "source": [
    "plt.figure(figsize=(12,6))\n",
    "sns.boxplot(df.select_dtypes(include=['number']))\n",
    "plt.show()"
   ],
   "id": "1e8fc023be73e6c6",
   "outputs": [
    {
     "data": {
      "text/plain": [
       "<Figure size 1200x600 with 1 Axes>"
      ],
      "image/png": "[encoded data removed]"
     },
     "metadata": {},
     "output_type": "display_data"
    }
   ],
   "execution_count": 16
  },
  {
   "metadata": {
    "ExecuteTime": {
     "end_time": "2025-05-05T08:49:20.913912Z",
     "start_time": "2025-05-05T08:49:20.843186Z"
    }
   },
   "cell_type": "code",
   "source": [
    "# c)\n",
    "cat = df.select_dtypes(include=['object']).columns.drop('STUDENT_ID')\n",
    "df_encoded = pd.get_dummies(df, columns=cat, drop_first=True)\n",
    "df_encoded.head()\n"
   ],
   "id": "178afc788ff7c140",
   "outputs": [
    {
     "data": {
      "text/plain": [
       "         STUDENT_ID  COURSE 1 MARKS  COURSE 2 MARKS  COURSE 3 MARKS  \\\n",
       "0  SB11201210000129            71.0            93.0            71.0   \n",
       "1  SB11201210000137            97.0            38.0            86.0   \n",
       "3  SB11201210007504            65.0            35.0            76.0   \n",
       "4  SB11201210007548            94.0            94.0            98.0   \n",
       "5  SB11201210007568            86.0            15.0            32.0   \n",
       "\n",
       "   COURSE 4 MARKS  COURSE 5 MARKS  PERCENTILE  GENDER_M  PLACEMENT_Yes  \\\n",
       "0            93.0            79.0          91     False           True   \n",
       "1            98.0            78.0          92     False           True   \n",
       "3            80.0            48.0          67     False           True   \n",
       "4           100.0            71.0          98      True           True   \n",
       "5            97.0            36.0          63     False           True   \n",
       "\n",
       "   HONOR_OPTED_OR_NOT_Yes  ...  ACADEMIC_PROGRAM_MECHANICAL ENGINEERING  \\\n",
       "0                    True  ...                                    False   \n",
       "1                    True  ...                                    False   \n",
       "3                    True  ...                                    False   \n",
       "4                    True  ...                                    False   \n",
       "5                    True  ...                                    False   \n",
       "\n",
       "   ACADEMIC_PROGRAM_MECHATRONICS ENGINEERING  \\\n",
       "0                                      False   \n",
       "1                                      False   \n",
       "3                                      False   \n",
       "4                                      False   \n",
       "5                                      False   \n",
       "\n",
       "   ACADEMIC_PROGRAM_PRODUCTION ENGINEERING  \\\n",
       "0                                    False   \n",
       "1                                    False   \n",
       "3                                    False   \n",
       "4                                    False   \n",
       "5                                    False   \n",
       "\n",
       "   ACADEMIC_PROGRAM_PRODUCTIVITY AND QUALITY ENGINEERING  \\\n",
       "0                                              False       \n",
       "1                                              False       \n",
       "3                                              False       \n",
       "4                                              False       \n",
       "5                                              False       \n",
       "\n",
       "   ACADEMIC_PROGRAM_TEXTILE ENGINEERING  \\\n",
       "0                                 False   \n",
       "1                                 False   \n",
       "3                                 False   \n",
       "4                                 False   \n",
       "5                                 False   \n",
       "\n",
       "   ACADEMIC_PROGRAM_TOPOGRAPHIC ENGINEERY  \\\n",
       "0                                   False   \n",
       "1                                   False   \n",
       "3                                   False   \n",
       "4                                   False   \n",
       "5                                   False   \n",
       "\n",
       "   ACADEMIC_PROGRAM_TRANSPORTATION AND ROAD ENGINEERING  \\\n",
       "0                                              False      \n",
       "1                                              False      \n",
       "3                                              False      \n",
       "4                                              False      \n",
       "5                                              False      \n",
       "\n",
       "   OVEARLL_GRADE_FIRST CLASS  OVEARLL_GRADE_SECOND CLASS  \\\n",
       "0                       True                       False   \n",
       "1                      False                       False   \n",
       "3                       True                       False   \n",
       "4                       True                       False   \n",
       "5                       True                       False   \n",
       "\n",
       "   OVEARLL_GRADE_THIRD CLASS  \n",
       "0                      False  \n",
       "1                       True  \n",
       "3                      False  \n",
       "4                      False  \n",
       "5                      False  \n",
       "\n",
       "[5 rows x 36 columns]"
      ],
      "text/html": [
       "<div>\n",
       "<style scoped>\n",
       "    .dataframe tbody tr th:only-of-type {\n",
       "        vertical-align: middle;\n",
       "    }\n",
       "\n",
       "    .dataframe tbody tr th {\n",
       "        vertical-align: top;\n",
       "    }\n",
       "\n",
       "    .dataframe thead th {\n",
       "        text-align: right;\n",
       "    }\n",
       "</style>\n",
       "<table border=\"1\" class=\"dataframe\">\n",
       "  <thead>\n",
       "    <tr style=\"text-align: right;\">\n",
       "      <th></th>\n",
       "      <th>STUDENT_ID</th>\n",
       "      <th>COURSE 1 MARKS</th>\n",
       "      <th>COURSE 2 MARKS</th>\n",
       "      <th>COURSE 3 MARKS</th>\n",
       "      <th>COURSE 4 MARKS</th>\n",
       "      <th>COURSE 5 MARKS</th>\n",
       "      <th>PERCENTILE</th>\n",
       "      <th>GENDER_M</th>\n",
       "      <th>PLACEMENT_Yes</th>\n",
       "      <th>HONOR_OPTED_OR_NOT_Yes</th>\n",
       "      <th>...</th>\n",
       "      <th>ACADEMIC_PROGRAM_MECHANICAL ENGINEERING</th>\n",
       "      <th>ACADEMIC_PROGRAM_MECHATRONICS ENGINEERING</th>\n",
       "      <th>ACADEMIC_PROGRAM_PRODUCTION ENGINEERING</th>\n",
       "      <th>ACADEMIC_PROGRAM_PRODUCTIVITY AND QUALITY ENGINEERING</th>\n",
       "      <th>ACADEMIC_PROGRAM_TEXTILE ENGINEERING</th>\n",
       "      <th>ACADEMIC_PROGRAM_TOPOGRAPHIC ENGINEERY</th>\n",
       "      <th>ACADEMIC_PROGRAM_TRANSPORTATION AND ROAD ENGINEERING</th>\n",
       "      <th>OVEARLL_GRADE_FIRST CLASS</th>\n",
       "      <th>OVEARLL_GRADE_SECOND CLASS</th>\n",
       "      <th>OVEARLL_GRADE_THIRD CLASS</th>\n",
       "    </tr>\n",
       "  </thead>\n",
       "  <tbody>\n",
       "    <tr>\n",
       "      <th>0</th>\n",
       "      <td>SB11201210000129</td>\n",
       "      <td>71.0</td>\n",
       "      <td>93.0</td>\n",
       "      <td>71.0</td>\n",
       "      <td>93.0</td>\n",
       "      <td>79.0</td>\n",
       "      <td>91</td>\n",
       "      <td>False</td>\n",
       "      <td>True</td>\n",
       "      <td>True</td>\n",
       "      <td>...</td>\n",
       "      <td>False</td>\n",
       "      <td>False</td>\n",
       "      <td>False</td>\n",
       "      <td>False</td>\n",
       "      <td>False</td>\n",
       "      <td>False</td>\n",
       "      <td>False</td>\n",
       "      <td>True</td>\n",
       "      <td>False</td>\n",
       "      <td>False</td>\n",
       "    </tr>\n",
       "    <tr>\n",
       "      <th>1</th>\n",
       "      <td>SB11201210000137</td>\n",
       "      <td>97.0</td>\n",
       "      <td>38.0</td>\n",
       "      <td>86.0</td>\n",
       "      <td>98.0</td>\n",
       "      <td>78.0</td>\n",
       "      <td>92</td>\n",
       "      <td>False</td>\n",
       "      <td>True</td>\n",
       "      <td>True</td>\n",
       "      <td>...</td>\n",
       "      <td>False</td>\n",
       "      <td>False</td>\n",
       "      <td>False</td>\n",
       "      <td>False</td>\n",
       "      <td>False</td>\n",
       "      <td>False</td>\n",
       "      <td>False</td>\n",
       "      <td>False</td>\n",
       "      <td>False</td>\n",
       "      <td>True</td>\n",
       "    </tr>\n",
       "    <tr>\n",
       "      <th>3</th>\n",
       "      <td>SB11201210007504</td>\n",
       "      <td>65.0</td>\n",
       "      <td>35.0</td>\n",
       "      <td>76.0</td>\n",
       "      <td>80.0</td>\n",
       "      <td>48.0</td>\n",
       "      <td>67</td>\n",
       "      <td>False</td>\n",
       "      <td>True</td>\n",
       "      <td>True</td>\n",
       "      <td>...</td>\n",
       "      <td>False</td>\n",
       "      <td>False</td>\n",
       "      <td>False</td>\n",
       "      <td>False</td>\n",
       "      <td>False</td>\n",
       "      <td>False</td>\n",
       "      <td>False</td>\n",
       "      <td>True</td>\n",
       "      <td>False</td>\n",
       "      <td>False</td>\n",
       "    </tr>\n",
       "    <tr>\n",
       "      <th>4</th>\n",
       "      <td>SB11201210007548</td>\n",
       "      <td>94.0</td>\n",
       "      <td>94.0</td>\n",
       "      <td>98.0</td>\n",
       "      <td>100.0</td>\n",
       "      <td>71.0</td>\n",
       "      <td>98</td>\n",
       "      <td>True</td>\n",
       "      <td>True</td>\n",
       "      <td>True</td>\n",
       "      <td>...</td>\n",
       "      <td>False</td>\n",
       "      <td>False</td>\n",
       "      <td>False</td>\n",
       "      <td>False</td>\n",
       "      <td>False</td>\n",
       "      <td>False</td>\n",
       "      <td>False</td>\n",
       "      <td>True</td>\n",
       "      <td>False</td>\n",
       "      <td>False</td>\n",
       "    </tr>\n",
       "    <tr>\n",
       "      <th>5</th>\n",
       "      <td>SB11201210007568</td>\n",
       "      <td>86.0</td>\n",
       "      <td>15.0</td>\n",
       "      <td>32.0</td>\n",
       "      <td>97.0</td>\n",
       "      <td>36.0</td>\n",
       "      <td>63</td>\n",
       "      <td>False</td>\n",
       "      <td>True</td>\n",
       "      <td>True</td>\n",
       "      <td>...</td>\n",
       "      <td>False</td>\n",
       "      <td>False</td>\n",
       "      <td>False</td>\n",
       "      <td>False</td>\n",
       "      <td>False</td>\n",
       "      <td>False</td>\n",
       "      <td>False</td>\n",
       "      <td>True</td>\n",
       "      <td>False</td>\n",
       "      <td>False</td>\n",
       "    </tr>\n",
       "  </tbody>\n",
       "</table>\n",
       "<p>5 rows × 36 columns</p>\n",
       "</div>"
      ]
     },
     "execution_count": 17,
     "metadata": {},
     "output_type": "execute_result"
    }
   ],
   "execution_count": 17
  }
 ],
 "metadata": {
  "kernelspec": {
   "display_name": "Python 3",
   "language": "python",
   "name": "python3"
  },
  "language_info": {
   "codemirror_mode": {
    "name": "ipython",
    "version": 2
   },
   "file_extension": ".py",
   "mimetype": "text/x-python",
   "name": "python",
   "nbconvert_exporter": "python",
   "pygments_lexer": "ipython2",
   "version": "2.7.6"
  }
 },
 "nbformat": 4,
 "nbformat_minor": 5
}
